{
 "cells": [
  {
   "cell_type": "markdown",
   "metadata": {},
   "source": [
    "# Figure - multiGPU"
   ]
  },
  {
   "cell_type": "code",
   "execution_count": null,
   "metadata": {},
   "outputs": [],
   "source": [
    "import numpy as np\n",
    "import matplotlib.pyplot as plt\n",
    "import os\n",
    "work_dir = \"H:\\workspace\\ptyrad\"\n",
    "os.chdir(work_dir)\n",
    "print(\"Current working dir: \", os.getcwd())"
   ]
  },
  {
   "cell_type": "code",
   "execution_count": null,
   "metadata": {},
   "outputs": [],
   "source": [
    "import numpy as np\n",
    "import matplotlib.pyplot as plt\n",
    "\n",
    "# The multiGPU tests are all done on A100 (80GB) due to hardware availability at the time, honestly we can't really saturate our A100 so doing multiGPU on it isn't very ideal\n",
    "# If time permits, rent a Linux machine with a couple GPUs and NVLink using vastai would be the most ideal/relevant test case\n",
    "# See docs/20241215_multiGPU/ for raw data and more details\n",
    "\n",
    "# Data\n",
    "batch_sizes = [32, 64, 128, 256, 512, 1024, 2048]\n",
    "speedup_2GPU = [0.7535, 1.0456, 1.2811, 1.5455, 1.6476, 1.9112, 1.8322]\n",
    "speedup_4GPU = [1.0977, 1.8829, 2.2268, 2.8810, 3.3117, 3.4335, 3.7647]\n",
    "\n",
    "# Bar width\n",
    "bar_width = 0.3  \n",
    "x = np.arange(len(batch_sizes))\n",
    "\n",
    "# Set the style to be more like plotly\n",
    "plt.style.use('seaborn-v0_8-whitegrid')\n",
    "\n",
    "# Create figure\n",
    "fig, ax = plt.subplots(figsize=(4, 3), dpi=600)\n",
    "\n",
    "# Set background colors\n",
    "ax.set_facecolor('#F0F0F0')  # Light gray for plot area\n",
    "fig.patch.set_facecolor('white')  # White for margins\n",
    "\n",
    "# Customize grid\n",
    "ax.grid(True, color='white', linestyle='-', linewidth=1.3, zorder=0)\n",
    "ax.set_axisbelow(True)\n",
    "\n",
    "# Dashed horizontal reference lines\n",
    "ax.axhline(y=1, color=\"#666666\", linestyle=\"dashed\", linewidth=1, alpha=0.9)    # 1x speedup\n",
    "ax.axhline(y=2, color=\"limegreen\", linestyle=\"dashed\", linewidth=1, alpha=0.9)  # 2x speedup\n",
    "ax.axhline(y=4, color=\"forestgreen\", linestyle=\"dashed\", linewidth=1, alpha=0.9)   # 4x ideal speedup\n",
    "\n",
    "# Plot bars\n",
    "ax.bar(x - bar_width/2, speedup_2GPU, bar_width, label=\"2 GPU\", color=\"limegreen\", zorder=2)\n",
    "ax.bar(x + bar_width/2, speedup_4GPU, bar_width, label=\"4 GPU\", color=\"forestgreen\", zorder=2)\n",
    "\n",
    "# Customize spines\n",
    "\n",
    "ax.spines['top'].set_color('k')\n",
    "ax.spines['right'].set_color('k')\n",
    "ax.spines['left'].set_color('k')\n",
    "ax.spines['bottom'].set_color('k')\n",
    "\n",
    "# Labels & Titles\n",
    "ax.set_xticks(x)\n",
    "ax.set_xticklabels(batch_sizes)\n",
    "ax.set_xlabel(\"Batch size\", color='k')\n",
    "ax.set_ylabel(\"Speedup factor\", color='k')\n",
    "ax.set_title(\"Speedup factor vs. batch size\", color='k')\n",
    "\n",
    "# Customize ticks\n",
    "ax.tick_params(colors='k')\n",
    "\n",
    "# Legend\n",
    "ax.legend(frameon=True, \n",
    "         facecolor='white', \n",
    "         edgecolor='none',\n",
    "         bbox_to_anchor=(0.0, 0.97),  # x=1.0 means right aligned, y=0.98 positions it near the top\n",
    "         loc='upper left')\n",
    "\n",
    "# Adjust layout\n",
    "plt.tight_layout()\n",
    "\n",
    "plt.savefig(\"Fig_S01_multiGPU_speedup.pdf\", bbox_inches=\"tight\")\n",
    "\n",
    "# Show the plot\n",
    "plt.show()"
   ]
  }
 ],
 "metadata": {
  "kernelspec": {
   "display_name": "cornell",
   "language": "python",
   "name": "python3"
  },
  "language_info": {
   "codemirror_mode": {
    "name": "ipython",
    "version": 3
   },
   "file_extension": ".py",
   "mimetype": "text/x-python",
   "name": "python",
   "nbconvert_exporter": "python",
   "pygments_lexer": "ipython3",
   "version": "3.11.5"
  }
 },
 "nbformat": 4,
 "nbformat_minor": 2
}
