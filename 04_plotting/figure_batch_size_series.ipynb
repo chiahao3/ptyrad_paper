{
 "cells": [
  {
   "cell_type": "markdown",
   "metadata": {},
   "source": [
    "# Figure - Batch size series"
   ]
  },
  {
   "cell_type": "code",
   "execution_count": null,
   "metadata": {},
   "outputs": [],
   "source": [
    "import os\n",
    "work_dir = \"H:/workspace/ptyrad_paper\"\n",
    "os.chdir(work_dir)\n",
    "print(\"Current working dir: \", os.getcwd())"
   ]
  },
  {
   "cell_type": "code",
   "execution_count": null,
   "metadata": {},
   "outputs": [],
   "source": [
    "import numpy as np\n",
    "import torch\n",
    "import matplotlib.pyplot as plt\n",
    "from ptyrad.data_io import load_hdf5, load_pt\n",
    "from ptyrad.utils import center_crop\n",
    "import h5py"
   ]
  },
  {
   "cell_type": "code",
   "execution_count": null,
   "metadata": {},
   "outputs": [],
   "source": [
    "batch_sizes = [16,64,256,1024]\n",
    "\n",
    "ptyrad_objects = []\n",
    "ptyshv_objects = []\n",
    "py4dstem_objects = []\n",
    "\n",
    "for i, batch_size in enumerate(batch_sizes):\n",
    "    # Note that py4DSTEM has the 3 deg rotation, while these ptyrad and ptyshv results do not have the scan rotation as I did for the convergence test\n",
    "    path_ptyrad   = f\"03_output/tBL_WSe2/20250131_ptyrad_batch_sizes/full_N16384_dp128_flipT100_random{batch_size}_p6_1obj_6slice_dz2_Adam_plr1e-4_oalr5e-4_oplr5e-4_slr5e-4_orblur0.5_ozblur1_oathr0.98_opos_sng1.0_spr0.1_aff1_0_-3_0/model_iter0100.pt\"\n",
    "    path_ptyshv   = f\"03_output/tBL_WSe2/20250129_ptyshv_batch_sizes/11/roi11_Ndp128_step128/MLs_L1_p6_g{batch_size}_pc0_noModel_mm_Ns6_dz2_reg1_dpFlip_ud_T/Niter100.mat\"\n",
    "    path_py4dstem = f\"03_output/tBL_WSe2/20250129_py4DSTEM_batch_sizes/N16384_dp128_flipT100_random{batch_size}_p6_6slice_dz2_update0.5_kzf1/model_iter0100.hdf5\"\n",
    "\n",
    "    # ptyrad\n",
    "    object_ptyrad = center_crop(load_pt(path_ptyrad)['optimizable_tensors']['objp'].squeeze().cpu().numpy().sum(0), 384, 384)\n",
    "    \n",
    "    # ptyshv\n",
    "    with h5py.File(path_ptyshv, \"r\") as hdf_file:\n",
    "        object_ptyshv = center_crop(np.angle(np.array(hdf_file['object']).view('complex128')).sum(0).T, 384, 384)\n",
    "\n",
    "    object_py4dstem = center_crop(np.angle(load_hdf5(path_py4dstem, dataset_key='object')).sum(0), 384, 384)\n",
    "\n",
    "    ptyrad_objects.append(object_ptyrad)\n",
    "    ptyshv_objects.append(object_ptyshv)\n",
    "    py4dstem_objects.append(object_py4dstem)"
   ]
  },
  {
   "cell_type": "code",
   "execution_count": null,
   "metadata": {},
   "outputs": [],
   "source": [
    "import numpy as np\n",
    "import matplotlib.pyplot as plt\n",
    "import matplotlib.gridspec as gridspec\n",
    "from mpl_toolkits.axes_grid1.inset_locator import mark_inset\n",
    "from mpl_toolkits.axes_grid1.anchored_artists import AnchoredSizeBar\n",
    "import matplotlib.font_manager as fm\n",
    "\n",
    "# Titles for the columns\n",
    "titles = ['PtyRAD', 'PtychoShelves', 'py4DSTEM']\n",
    "\n",
    "# Panel labels\n",
    "panel_labels = np.array([['a', 'b', 'c'], ['d', 'e', 'f'], ['g', 'h', 'i'], ['j', 'k', 'l']])\n",
    "shadow_offset = (3, 3)\n",
    "\n",
    "# Zoom-in region\n",
    "zoom_region = (88, 152, 310, 246)# (270, 320, 65, 15)  \n",
    "\n",
    "# Define figure and GridSpec layout\n",
    "fig = plt.figure(figsize=(6, 7.2), dpi=600)\n",
    "gs = gridspec.GridSpec(4, 3, wspace=-0.25, hspace=0.05, height_ratios=[1, 1, 1, 1], width_ratios=[1, 1, 1], figure=fig)\n",
    "\n",
    "# Iterate over columns (methods) and rows (batch sizes)\n",
    "for i, (obj, title) in enumerate(zip([ptyrad_objects, ptyshv_objects, py4dstem_objects], titles)):\n",
    "    for j in range(4):\n",
    "        ax = fig.add_subplot(gs[j, i])\n",
    "\n",
    "        # Scale bar settings\n",
    "        scale_bar_length = 134  # Length in pixels\n",
    "        scale_bar_label = \"2 nm\"  \n",
    "        scale_bar_color = \"white\"\n",
    "        fontprops = fm.FontProperties(size=10)\n",
    "\n",
    "        # Main image\n",
    "        vmin, vmax = np.percentile(obj[j], [0.5, 99.9])\n",
    "        ax.imshow(obj[j], cmap='gray', origin='upper', vmin=vmin, vmax=vmax)\n",
    "        ax.axis('off')\n",
    "\n",
    "        # Titles for the top row\n",
    "        if j == 0:\n",
    "            ax.set_title(title, fontsize=14)\n",
    "\n",
    "        # Add label with text shadow\n",
    "        ax.text(9 + shadow_offset[0], 9 + shadow_offset[1], panel_labels[j, i], color='black', fontsize=16, fontweight='bold', va='top', ha='left', alpha=0.6)\n",
    "        ax.text(9, 9, panel_labels[j, i], color='white', fontsize=16, fontweight='bold', va='top', ha='left')\n",
    "\n",
    "        # Add scale bar\n",
    "        scalebar = AnchoredSizeBar(ax.transData, scale_bar_length, scale_bar_label, loc='lower right',\n",
    "                                   pad=0.5, color=scale_bar_color, frameon=False, size_vertical=3, label_top=True,\n",
    "                                   fontproperties=fontprops)\n",
    "        ax.add_artist(scalebar)\n",
    "\n",
    "        # Zoom-in inset\n",
    "        x1, x2, y1, y2 = zoom_region  \n",
    "        axins = ax.inset_axes([0.15, 0.40, 0.35, 0.35], xlim=(x1, x2), ylim=(y1, y2)) # [x0, y0, width, height], Lower-left corner of inset Axes, and its width and height.\n",
    "        axins.imshow(obj[j], cmap='gray', origin='upper', vmin=vmin, vmax=vmax)\n",
    "\n",
    "        # Remove ticks and labels from inset\n",
    "        axins.tick_params(left=False, bottom=False, labelleft=False, labelbottom=False)\n",
    "        for spine in axins.spines.values():\n",
    "            spine.set_edgecolor('darkred')\n",
    "\n",
    "        # Indicate zoom region with a red edge\n",
    "        mark_inset(ax, axins, loc1=3, loc2=4, fc=\"none\", ec=\"darkred\")\n",
    "\n",
    "        # Add row labels on the leftmost column\n",
    "        if i == 0:\n",
    "            ax.annotate(f'Batch size\\n{batch_sizes[j]}', xy=(-0.3, 0.5), xycoords='axes fraction', fontsize=10, ha='center', va='center', rotation=0)\n",
    "\n",
    "plt.savefig(\"05_figures/Fig_S04_batch_size_series.pdf\", bbox_inches=\"tight\")\n",
    "\n",
    "# Show the plot\n",
    "plt.show()\n"
   ]
  },
  {
   "cell_type": "code",
   "execution_count": null,
   "metadata": {},
   "outputs": [],
   "source": []
  }
 ],
 "metadata": {
  "kernelspec": {
   "display_name": "cornell",
   "language": "python",
   "name": "python3"
  },
  "language_info": {
   "codemirror_mode": {
    "name": "ipython",
    "version": 3
   },
   "file_extension": ".py",
   "mimetype": "text/x-python",
   "name": "python",
   "nbconvert_exporter": "python",
   "pygments_lexer": "ipython3",
   "version": "3.12.10"
  }
 },
 "nbformat": 4,
 "nbformat_minor": 2
}
